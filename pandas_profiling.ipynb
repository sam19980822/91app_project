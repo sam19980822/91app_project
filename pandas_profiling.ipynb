{
 "cells": [
  {
   "cell_type": "code",
   "execution_count": 7,
   "metadata": {
    "ExecuteTime": {
     "end_time": "2021-01-10T12:11:07.454080Z",
     "start_time": "2021-01-10T12:11:07.448358Z"
    }
   },
   "outputs": [],
   "source": [
    "import os\n",
    "import pandas as pd\n",
    "import numpy as np\n",
    "import copy\n",
    "import matplotlib.pyplot as plt\n",
    "import seaborn as sns\n",
    "import pandas_profiling \n",
    "%matplotlib inline\n",
    "\n"
   ]
  },
  {
   "cell_type": "code",
   "execution_count": 8,
   "metadata": {
    "ExecuteTime": {
     "end_time": "2021-01-10T12:11:07.812519Z",
     "start_time": "2021-01-10T12:11:07.808697Z"
    }
   },
   "outputs": [],
   "source": [
    "if os.path.isdir('EDA table') ==False:\n",
    "    os.makedirs('EDA table')\n",
    "    \n",
    "    # os.makedirs could recursively make directory, mkdir could only create one layer\n",
    "    # EX: os.makedirs(foo/bar/samliao) VS. os.mkdir(foo)"
   ]
  },
  {
   "cell_type": "code",
   "execution_count": 9,
   "metadata": {
    "ExecuteTime": {
     "end_time": "2021-01-10T12:11:10.553142Z",
     "start_time": "2021-01-10T12:11:10.545657Z"
    }
   },
   "outputs": [],
   "source": [
    "Behave = pd.read_csv('data/BehaviorDataForNTU.csv')\n",
    "# Order = pd.read_csv('data/OrderDataForNTU.csv')\n",
    "# Member = pd.read_csv('data/MemberDataForNTU.csv')\n",
    "\n"
   ]
  },
  {
   "cell_type": "code",
   "execution_count": 10,
   "metadata": {
    "ExecuteTime": {
     "end_time": "2021-01-10T12:11:13.793834Z",
     "start_time": "2021-01-10T12:11:13.786760Z"
    }
   },
   "outputs": [],
   "source": [
    "profile = Behave.profile_report(title='網站瀏覽行為資料EDA')\n",
    "profile.to_file(output_file=\"EDA table/網站瀏覽行為資料EDA.html\")\n",
    "\n",
    "# profile = Member.profile_report(title='會員資料EDA')\n",
    "# profile.to_file(output_file=\"EDA table/會員資料EDA.html\")\n",
    "\n",
    "# profile = Order.profile_report(title='訂單資料EDA')\n",
    "# profile.to_file(output_file=\"EDA table/訂單資料EDA.html\")\n"
   ]
  }
 ],
 "metadata": {
  "hide_input": false,
  "kernelspec": {
   "display_name": "Python 3",
   "language": "python",
   "name": "python3"
  },
  "language_info": {
   "codemirror_mode": {
    "name": "ipython",
    "version": 3
   },
   "file_extension": ".py",
   "mimetype": "text/x-python",
   "name": "python",
   "nbconvert_exporter": "python",
   "pygments_lexer": "ipython3",
   "version": "3.6.3"
  },
  "toc": {
   "base_numbering": 1,
   "nav_menu": {},
   "number_sections": true,
   "sideBar": true,
   "skip_h1_title": false,
   "title_cell": "Table of Contents",
   "title_sidebar": "Contents",
   "toc_cell": false,
   "toc_position": {},
   "toc_section_display": true,
   "toc_window_display": false
  },
  "varInspector": {
   "cols": {
    "lenName": 16,
    "lenType": 16,
    "lenVar": 40
   },
   "kernels_config": {
    "python": {
     "delete_cmd_postfix": "",
     "delete_cmd_prefix": "del ",
     "library": "var_list.py",
     "varRefreshCmd": "print(var_dic_list())"
    },
    "r": {
     "delete_cmd_postfix": ") ",
     "delete_cmd_prefix": "rm(",
     "library": "var_list.r",
     "varRefreshCmd": "cat(var_dic_list()) "
    }
   },
   "types_to_exclude": [
    "module",
    "function",
    "builtin_function_or_method",
    "instance",
    "_Feature"
   ],
   "window_display": false
  }
 },
 "nbformat": 4,
 "nbformat_minor": 2
}
