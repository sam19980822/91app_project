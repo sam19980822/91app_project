{
 "cells": [
  {
   "cell_type": "code",
   "execution_count": 1,
   "metadata": {
    "ExecuteTime": {
     "end_time": "2021-01-10T09:02:00.590606Z",
     "start_time": "2021-01-10T09:01:53.962188Z"
    }
   },
   "outputs": [],
   "source": [
    "import os\n",
    "from glob import glob\n",
    "import pandas as pd\n",
    "import numpy as np\n",
    "import copy\n",
    "from datetime import datetime\n",
    "from sklearn.preprocessing import MinMaxScaler, StandardScaler\n",
    "from sklearn.model_selection import cross_val_score\n",
    "from sklearn.linear_model import LogisticRegression\n",
    "from sklearn.linear_model import LinearRegression\n",
    "from sklearn.preprocessing import LabelEncoder\n",
    "from sklearn.ensemble import RandomForestClassifier\n",
    "import matplotlib.pyplot as plt\n",
    "import seaborn as sns\n",
    "%matplotlib inline\n",
    "from xgboost import XGBClassifier\n",
    "from sklearn.model_selection import train_test_split\n",
    "from sklearn import svm, datasets\n",
    "from sklearn.model_selection import GridSearchCV\n",
    "from xgboost import XGBClassifier\n",
    "import pandas_profiling \n",
    "from itertools import chain\n"
   ]
  },
  {
   "cell_type": "code",
   "execution_count": 7,
   "metadata": {
    "ExecuteTime": {
     "end_time": "2021-01-10T09:16:16.684632Z",
     "start_time": "2021-01-10T09:14:37.777281Z"
    }
   },
   "outputs": [
    {
     "name": "stderr",
     "output_type": "stream",
     "text": [
      "/Library/Frameworks/Python.framework/Versions/3.6/lib/python3.6/site-packages/IPython/core/interactiveshell.py:2785: DtypeWarning: Columns (8,9,10) have mixed types.Specify dtype option on import or set low_memory=False.\n",
      "  interactivity=interactivity, compiler=compiler, result=result)\n"
     ]
    }
   ],
   "source": [
    "Order = pd.read_csv('data/OrderDataForNTU.csv')\n",
    "Behave = pd.read_csv('data/BehaviorDataForNTU.csv')\n"
   ]
  },
  {
   "cell_type": "markdown",
   "metadata": {},
   "source": [
    "### Data Preprocess  "
   ]
  },
  {
   "cell_type": "markdown",
   "metadata": {},
   "source": [
    "#### Delete columns that we won't analysis\n",
    "OperationSystem, SourceType, SearchKeyWord, OnlineMemberId, ProductId  "
   ]
  },
  {
   "cell_type": "code",
   "execution_count": 10,
   "metadata": {
    "ExecuteTime": {
     "end_time": "2021-01-10T09:16:56.354752Z",
     "start_time": "2021-01-10T09:16:41.364779Z"
    }
   },
   "outputs": [],
   "source": [
    "Behave.drop(columns=['OperationSystem','SourceType','SearchKeyWord',\n",
    "                          'OnlineMemberId','ProductId'],inplace= True)\n"
   ]
  },
  {
   "cell_type": "markdown",
   "metadata": {},
   "source": [
    "#### Datetime format transform"
   ]
  },
  {
   "cell_type": "code",
   "execution_count": 11,
   "metadata": {
    "ExecuteTime": {
     "end_time": "2021-01-10T09:21:42.698112Z",
     "start_time": "2021-01-10T09:16:56.563468Z"
    }
   },
   "outputs": [],
   "source": [
    "Behave['HitDateTime'] = Behave['HitDateTime'].apply(lambda x: datetime.strptime(x.split('.')[0], '%Y-%m-%d %H:%M:%S'))\n",
    "Order['TradesDate'] = Order['TradesDate'].apply(lambda x: datetime.strptime(x, '%Y/%m/%d'))\n"
   ]
  },
  {
   "cell_type": "code",
   "execution_count": 15,
   "metadata": {
    "ExecuteTime": {
     "end_time": "2021-01-10T09:30:59.559293Z",
     "start_time": "2021-01-10T09:23:10.157531Z"
    }
   },
   "outputs": [],
   "source": [
    "# Generate label encoding column of Hitdate\n",
    "Behave['HitMonth'] = Behave['HitDateTime'].apply(lambda x:x.month)  \n",
    "Behave['HitDay'] = Behave['HitDateTime'].apply(lambda x:x.day)\n",
    "Behave['HitHour'] = Behave['HitDateTime'].apply(lambda x:x.hour)\n",
    "# Drop hour, minute and second \n",
    "Behave['HitDateTime'] = Behave['HitDateTime'].apply(lambda x: datetime(x.year, x.month, x.day))"
   ]
  },
  {
   "cell_type": "code",
   "execution_count": 16,
   "metadata": {
    "ExecuteTime": {
     "end_time": "2021-01-10T09:32:17.598587Z",
     "start_time": "2021-01-10T09:31:04.853629Z"
    }
   },
   "outputs": [],
   "source": [
    "# Use HitMonth < 10 as train data, others as test data\n",
    "BehaveTrain = Behave[Behave['HitMonth'] < 10]\n",
    "BehaveTest = Behave[Behave['HitMonth'] > 10]\n",
    "BehaveTest = BehaveTest[BehaveTest['VisitorId'].isin(BehaveTrain['VisitorId'].unique())]\n"
   ]
  },
  {
   "cell_type": "markdown",
   "metadata": {},
   "source": [
    "### Each user's buying frequency"
   ]
  },
  {
   "cell_type": "code",
   "execution_count": 17,
   "metadata": {
    "ExecuteTime": {
     "end_time": "2021-01-10T09:32:19.641055Z",
     "start_time": "2021-01-10T09:32:18.131315Z"
    }
   },
   "outputs": [
    {
     "data": {
      "text/html": [
       "<div>\n",
       "<style scoped>\n",
       "    .dataframe tbody tr th:only-of-type {\n",
       "        vertical-align: middle;\n",
       "    }\n",
       "\n",
       "    .dataframe tbody tr th {\n",
       "        vertical-align: top;\n",
       "    }\n",
       "\n",
       "    .dataframe thead th {\n",
       "        text-align: right;\n",
       "    }\n",
       "</style>\n",
       "<table border=\"1\" class=\"dataframe\">\n",
       "  <thead>\n",
       "    <tr style=\"text-align: right;\">\n",
       "      <th></th>\n",
       "      <th>HitDateTime</th>\n",
       "    </tr>\n",
       "    <tr>\n",
       "      <th>VisitorId</th>\n",
       "      <th></th>\n",
       "    </tr>\n",
       "  </thead>\n",
       "  <tbody>\n",
       "    <tr>\n",
       "      <th>00029794-73de-40eb-a129-d5e99c6c3c3c</th>\n",
       "      <td>3</td>\n",
       "    </tr>\n",
       "    <tr>\n",
       "      <th>000a3865-9931-4a5f-0447-eaf0bd553931</th>\n",
       "      <td>2</td>\n",
       "    </tr>\n",
       "    <tr>\n",
       "      <th>0011ff2b-6b7a-47f5-b564-0a3f7f8d8001</th>\n",
       "      <td>2</td>\n",
       "    </tr>\n",
       "    <tr>\n",
       "      <th>00190219-041d-4938-8ff7-6254221c279e</th>\n",
       "      <td>2</td>\n",
       "    </tr>\n",
       "    <tr>\n",
       "      <th>001d4a98-60b4-49a1-8430-2d8cfb21a732</th>\n",
       "      <td>2</td>\n",
       "    </tr>\n",
       "    <tr>\n",
       "      <th>...</th>\n",
       "      <td>...</td>\n",
       "    </tr>\n",
       "    <tr>\n",
       "      <th>ffb88e3e-ded3-458e-8137-a188f477fbb6</th>\n",
       "      <td>2</td>\n",
       "    </tr>\n",
       "    <tr>\n",
       "      <th>ffe77131-1870-4a07-d860-d7fd3457d873</th>\n",
       "      <td>3</td>\n",
       "    </tr>\n",
       "    <tr>\n",
       "      <th>ffe88cec-ccb8-4c9e-a708-5dba732fb6d3</th>\n",
       "      <td>3</td>\n",
       "    </tr>\n",
       "    <tr>\n",
       "      <th>ffed148b-16e8-48cd-adce-497a9eed8ff5</th>\n",
       "      <td>2</td>\n",
       "    </tr>\n",
       "    <tr>\n",
       "      <th>fffb9811-bacf-43e1-ad0e-04e38ace7d28</th>\n",
       "      <td>3</td>\n",
       "    </tr>\n",
       "  </tbody>\n",
       "</table>\n",
       "<p>5376 rows × 1 columns</p>\n",
       "</div>"
      ],
      "text/plain": [
       "                                      HitDateTime\n",
       "VisitorId                                        \n",
       "00029794-73de-40eb-a129-d5e99c6c3c3c            3\n",
       "000a3865-9931-4a5f-0447-eaf0bd553931            2\n",
       "0011ff2b-6b7a-47f5-b564-0a3f7f8d8001            2\n",
       "00190219-041d-4938-8ff7-6254221c279e            2\n",
       "001d4a98-60b4-49a1-8430-2d8cfb21a732            2\n",
       "...                                           ...\n",
       "ffb88e3e-ded3-458e-8137-a188f477fbb6            2\n",
       "ffe77131-1870-4a07-d860-d7fd3457d873            3\n",
       "ffe88cec-ccb8-4c9e-a708-5dba732fb6d3            3\n",
       "ffed148b-16e8-48cd-adce-497a9eed8ff5            2\n",
       "fffb9811-bacf-43e1-ad0e-04e38ace7d28            3\n",
       "\n",
       "[5376 rows x 1 columns]"
      ]
     },
     "execution_count": 17,
     "metadata": {},
     "output_type": "execute_result"
    }
   ],
   "source": [
    "x = Behave[Behave['TransactionNum'].notna()][['VisitorId','HitDateTime']].sort_values(['VisitorId','HitDateTime'])\n",
    "y = x.drop_duplicates(subset=['VisitorId','HitDateTime']).groupby('VisitorId').count()\n",
    "# Users who buy over one time\n",
    "y[y['HitDateTime']>1]\n"
   ]
  },
  {
   "cell_type": "code",
   "execution_count": 18,
   "metadata": {
    "ExecuteTime": {
     "end_time": "2021-01-10T09:32:20.177836Z",
     "start_time": "2021-01-10T09:32:20.025746Z"
    }
   },
   "outputs": [
    {
     "data": {
      "text/html": [
       "<div>\n",
       "<style scoped>\n",
       "    .dataframe tbody tr th:only-of-type {\n",
       "        vertical-align: middle;\n",
       "    }\n",
       "\n",
       "    .dataframe tbody tr th {\n",
       "        vertical-align: top;\n",
       "    }\n",
       "\n",
       "    .dataframe thead th {\n",
       "        text-align: right;\n",
       "    }\n",
       "</style>\n",
       "<table border=\"1\" class=\"dataframe\">\n",
       "  <thead>\n",
       "    <tr style=\"text-align: right;\">\n",
       "      <th></th>\n",
       "      <th>VisitorId</th>\n",
       "      <th>HitDateTime</th>\n",
       "    </tr>\n",
       "  </thead>\n",
       "  <tbody>\n",
       "    <tr>\n",
       "      <th>8533904</th>\n",
       "      <td>00029794-73de-40eb-a129-d5e99c6c3c3c</td>\n",
       "      <td>2018-11-08</td>\n",
       "    </tr>\n",
       "    <tr>\n",
       "      <th>6772450</th>\n",
       "      <td>00029794-73de-40eb-a129-d5e99c6c3c3c</td>\n",
       "      <td>2018-11-30</td>\n",
       "    </tr>\n",
       "    <tr>\n",
       "      <th>3511346</th>\n",
       "      <td>00029794-73de-40eb-a129-d5e99c6c3c3c</td>\n",
       "      <td>2018-12-11</td>\n",
       "    </tr>\n",
       "    <tr>\n",
       "      <th>10218493</th>\n",
       "      <td>0004f0f0-3755-4420-08ca-e6cf95366d7c</td>\n",
       "      <td>2018-11-21</td>\n",
       "    </tr>\n",
       "    <tr>\n",
       "      <th>11887958</th>\n",
       "      <td>0005cf08-e922-4e2f-bbcc-22ef96e04d61</td>\n",
       "      <td>2018-04-06</td>\n",
       "    </tr>\n",
       "    <tr>\n",
       "      <th>...</th>\n",
       "      <td>...</td>\n",
       "      <td>...</td>\n",
       "    </tr>\n",
       "    <tr>\n",
       "      <th>12024741</th>\n",
       "      <td>fffb9811-bacf-43e1-ad0e-04e38ace7d28</td>\n",
       "      <td>2018-07-20</td>\n",
       "    </tr>\n",
       "    <tr>\n",
       "      <th>3524196</th>\n",
       "      <td>fffb9811-bacf-43e1-ad0e-04e38ace7d28</td>\n",
       "      <td>2018-10-03</td>\n",
       "    </tr>\n",
       "    <tr>\n",
       "      <th>8683054</th>\n",
       "      <td>fffb9811-bacf-43e1-ad0e-04e38ace7d28</td>\n",
       "      <td>2018-10-03</td>\n",
       "    </tr>\n",
       "    <tr>\n",
       "      <th>8533857</th>\n",
       "      <td>undefined</td>\n",
       "      <td>2018-03-29</td>\n",
       "    </tr>\n",
       "    <tr>\n",
       "      <th>8548230</th>\n",
       "      <td>undefined</td>\n",
       "      <td>2018-03-29</td>\n",
       "    </tr>\n",
       "  </tbody>\n",
       "</table>\n",
       "<p>73352 rows × 2 columns</p>\n",
       "</div>"
      ],
      "text/plain": [
       "                                     VisitorId HitDateTime\n",
       "8533904   00029794-73de-40eb-a129-d5e99c6c3c3c  2018-11-08\n",
       "6772450   00029794-73de-40eb-a129-d5e99c6c3c3c  2018-11-30\n",
       "3511346   00029794-73de-40eb-a129-d5e99c6c3c3c  2018-12-11\n",
       "10218493  0004f0f0-3755-4420-08ca-e6cf95366d7c  2018-11-21\n",
       "11887958  0005cf08-e922-4e2f-bbcc-22ef96e04d61  2018-04-06\n",
       "...                                        ...         ...\n",
       "12024741  fffb9811-bacf-43e1-ad0e-04e38ace7d28  2018-07-20\n",
       "3524196   fffb9811-bacf-43e1-ad0e-04e38ace7d28  2018-10-03\n",
       "8683054   fffb9811-bacf-43e1-ad0e-04e38ace7d28  2018-10-03\n",
       "8533857                              undefined  2018-03-29\n",
       "8548230                              undefined  2018-03-29\n",
       "\n",
       "[73352 rows x 2 columns]"
      ]
     },
     "execution_count": 18,
     "metadata": {},
     "output_type": "execute_result"
    }
   ],
   "source": [
    "# Valid user's transaction time\n",
    "x[x['VisitorId'].isin(list(y.index))]"
   ]
  },
  {
   "cell_type": "code",
   "execution_count": null,
   "metadata": {},
   "outputs": [],
   "source": []
  }
 ],
 "metadata": {
  "hide_input": false,
  "kernelspec": {
   "display_name": "Python 3",
   "language": "python",
   "name": "python3"
  },
  "language_info": {
   "codemirror_mode": {
    "name": "ipython",
    "version": 3
   },
   "file_extension": ".py",
   "mimetype": "text/x-python",
   "name": "python",
   "nbconvert_exporter": "python",
   "pygments_lexer": "ipython3",
   "version": "3.6.3"
  },
  "toc": {
   "base_numbering": 1,
   "nav_menu": {},
   "number_sections": true,
   "sideBar": true,
   "skip_h1_title": false,
   "title_cell": "Table of Contents",
   "title_sidebar": "Contents",
   "toc_cell": false,
   "toc_position": {},
   "toc_section_display": true,
   "toc_window_display": false
  },
  "varInspector": {
   "cols": {
    "lenName": 16,
    "lenType": 16,
    "lenVar": 40
   },
   "kernels_config": {
    "python": {
     "delete_cmd_postfix": "",
     "delete_cmd_prefix": "del ",
     "library": "var_list.py",
     "varRefreshCmd": "print(var_dic_list())"
    },
    "r": {
     "delete_cmd_postfix": ") ",
     "delete_cmd_prefix": "rm(",
     "library": "var_list.r",
     "varRefreshCmd": "cat(var_dic_list()) "
    }
   },
   "types_to_exclude": [
    "module",
    "function",
    "builtin_function_or_method",
    "instance",
    "_Feature"
   ],
   "window_display": false
  }
 },
 "nbformat": 4,
 "nbformat_minor": 2
}
