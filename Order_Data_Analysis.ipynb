{
 "cells": [
  {
   "cell_type": "markdown",
   "metadata": {},
   "source": [
    "### Load package"
   ]
  },
  {
   "cell_type": "code",
   "execution_count": 2,
   "metadata": {
    "ExecuteTime": {
     "end_time": "2021-01-10T09:29:00.277670Z",
     "start_time": "2021-01-10T09:29:00.263418Z"
    }
   },
   "outputs": [],
   "source": [
    "import os\n",
    "import pandas as pd\n",
    "import numpy as np\n",
    "import copy\n",
    "from datetime import datetime\n",
    "from collections import Counter\n",
    "from itertools import chain\n",
    "import matplotlib.pyplot as plt\n",
    "import seaborn as sns\n",
    "%matplotlib inline"
   ]
  },
  {
   "cell_type": "markdown",
   "metadata": {},
   "source": [
    "### Load Data "
   ]
  },
  {
   "cell_type": "code",
   "execution_count": 3,
   "metadata": {
    "ExecuteTime": {
     "end_time": "2021-01-10T09:32:19.687344Z",
     "start_time": "2021-01-10T09:29:50.504085Z"
    }
   },
   "outputs": [
    {
     "name": "stderr",
     "output_type": "stream",
     "text": [
      "/Library/Frameworks/Python.framework/Versions/3.6/lib/python3.6/site-packages/IPython/core/interactiveshell.py:2785: DtypeWarning: Columns (8,9,10) have mixed types.Specify dtype option on import or set low_memory=False.\n",
      "  interactivity=interactivity, compiler=compiler, result=result)\n"
     ]
    }
   ],
   "source": [
    "Behave = pd.read_csv('data/BehaviorDataForNTU.csv')\n",
    "Order = pd.read_csv('data/OrderDataForNTU.csv')\n",
    "Purchase19 = pd.read_csv('data/purchase19.csv')\n"
   ]
  },
  {
   "cell_type": "code",
   "execution_count": 4,
   "metadata": {
    "ExecuteTime": {
     "end_time": "2021-01-10T09:38:13.778165Z",
     "start_time": "2021-01-10T09:32:20.294265Z"
    }
   },
   "outputs": [],
   "source": [
    "# preprocess date time \n",
    "Order['TradesDate'] = Order['TradesDate'].apply(lambda x: datetime.strptime(x,'%Y/%m/%d'))\n",
    "Behave['HitDateTime'] = Behave['HitDateTime'].apply(lambda x: datetime.strptime(x.split('.')[0], '%Y-%m-%d %H:%M:%S'))\n",
    "Order['year'] = Order['TradesDate'].apply(lambda x:x.year)\n",
    "Order['month'] = Order['TradesDate'].apply(lambda x:x.month)"
   ]
  },
  {
   "cell_type": "code",
   "execution_count": 5,
   "metadata": {
    "ExecuteTime": {
     "end_time": "2021-01-10T09:38:15.674382Z",
     "start_time": "2021-01-10T09:38:14.343181Z"
    }
   },
   "outputs": [],
   "source": [
    "# filter 2018's data which status is Finish\n",
    "TN = list(Order[(Order['Status']=='Finish') & (Order['year']== 2018) &(Order['month'] <= 12)]['TransactionNum'].unique())\n",
    "Purchase18 = Behave[(Behave['TransactionNum'].isin(TN))][['VisitorId','HitDateTime']]\n"
   ]
  },
  {
   "cell_type": "markdown",
   "metadata": {},
   "source": [
    "### Feature Engineer on 2018 Purchase data"
   ]
  },
  {
   "cell_type": "code",
   "execution_count": 6,
   "metadata": {
    "ExecuteTime": {
     "end_time": "2021-01-10T09:38:42.922662Z",
     "start_time": "2021-01-10T09:38:42.094594Z"
    }
   },
   "outputs": [],
   "source": [
    "Purchase18.drop_duplicates(subset=['VisitorId','HitDateTime'],inplace= True)\n",
    "Purchase18['HitYear'] = Purchase18['HitDateTime'].apply(lambda x:x.year)\n",
    "Purchase18['HitMonth'] = Purchase18['HitDateTime'].apply(lambda x:x.month)  # 只有3-12月\n",
    "Purchase18['HitDay'] = Purchase18['HitDateTime'].apply(lambda x:x.day)\n",
    "Purchase18['HitHour'] = Purchase18['HitDateTime'].apply(lambda x:x.hour)\n",
    "\n"
   ]
  },
  {
   "cell_type": "code",
   "execution_count": 7,
   "metadata": {
    "ExecuteTime": {
     "end_time": "2021-01-10T09:38:44.237892Z",
     "start_time": "2021-01-10T09:38:44.097307Z"
    }
   },
   "outputs": [],
   "source": [
    "Purchase18 = Purchase18.sort_values(by = ['VisitorId','HitDateTime'])\n",
    "Purchase18['HitDateTime_shift'] = Purchase18['HitDateTime'].shift(-1)\n",
    "Purchase18['day_diff'] = Purchase18['HitDateTime_shift'] - Purchase18['HitDateTime']\n",
    "Purchase18['day_diff'] = Purchase18['day_diff'].dt.days\n",
    "Purchase18 = Purchase18.reset_index(drop = True)"
   ]
  },
  {
   "cell_type": "code",
   "execution_count": 8,
   "metadata": {
    "ExecuteTime": {
     "end_time": "2021-01-10T09:38:45.620889Z",
     "start_time": "2021-01-10T09:38:45.516297Z"
    }
   },
   "outputs": [],
   "source": [
    "# extract data that frequency >= 3  \n",
    "frq = Purchase18.groupby('VisitorId').count()['HitDateTime']\n",
    "frq = frq[frq >=3 ].to_frame().reset_index()\n",
    "Purchase18 = Purchase18[Purchase18['VisitorId'].isin(frq['VisitorId'])]\n",
    "Purchase18 = Purchase18.reset_index(drop = True)"
   ]
  },
  {
   "cell_type": "code",
   "execution_count": 9,
   "metadata": {
    "ExecuteTime": {
     "end_time": "2021-01-10T09:38:51.165809Z",
     "start_time": "2021-01-10T09:38:51.109008Z"
    }
   },
   "outputs": [
    {
     "data": {
      "text/html": [
       "<div>\n",
       "<style scoped>\n",
       "    .dataframe tbody tr th:only-of-type {\n",
       "        vertical-align: middle;\n",
       "    }\n",
       "\n",
       "    .dataframe tbody tr th {\n",
       "        vertical-align: top;\n",
       "    }\n",
       "\n",
       "    .dataframe thead th {\n",
       "        text-align: right;\n",
       "    }\n",
       "</style>\n",
       "<table border=\"1\" class=\"dataframe\">\n",
       "  <thead>\n",
       "    <tr style=\"text-align: right;\">\n",
       "      <th></th>\n",
       "      <th>VisitorId</th>\n",
       "      <th>HitDateTime</th>\n",
       "      <th>HitYear</th>\n",
       "      <th>HitMonth</th>\n",
       "      <th>HitDay</th>\n",
       "      <th>HitHour</th>\n",
       "      <th>HitDateTime_shift</th>\n",
       "      <th>day_diff</th>\n",
       "    </tr>\n",
       "  </thead>\n",
       "  <tbody>\n",
       "    <tr>\n",
       "      <th>0</th>\n",
       "      <td>0022dd08-bb9b-48ef-9c49-49d9d21fe06d</td>\n",
       "      <td>2018-04-24 02:44:44</td>\n",
       "      <td>2018</td>\n",
       "      <td>4</td>\n",
       "      <td>24</td>\n",
       "      <td>2</td>\n",
       "      <td>2018-06-05 00:38:41</td>\n",
       "      <td>41.0</td>\n",
       "    </tr>\n",
       "    <tr>\n",
       "      <th>1</th>\n",
       "      <td>0022dd08-bb9b-48ef-9c49-49d9d21fe06d</td>\n",
       "      <td>2018-06-05 00:38:41</td>\n",
       "      <td>2018</td>\n",
       "      <td>6</td>\n",
       "      <td>5</td>\n",
       "      <td>0</td>\n",
       "      <td>2018-06-13 23:21:30</td>\n",
       "      <td>8.0</td>\n",
       "    </tr>\n",
       "    <tr>\n",
       "      <th>2</th>\n",
       "      <td>0022dd08-bb9b-48ef-9c49-49d9d21fe06d</td>\n",
       "      <td>2018-06-13 23:21:30</td>\n",
       "      <td>2018</td>\n",
       "      <td>6</td>\n",
       "      <td>13</td>\n",
       "      <td>23</td>\n",
       "      <td>2018-06-27 23:48:56</td>\n",
       "      <td>14.0</td>\n",
       "    </tr>\n",
       "    <tr>\n",
       "      <th>3</th>\n",
       "      <td>0022dd08-bb9b-48ef-9c49-49d9d21fe06d</td>\n",
       "      <td>2018-06-27 23:48:56</td>\n",
       "      <td>2018</td>\n",
       "      <td>6</td>\n",
       "      <td>27</td>\n",
       "      <td>23</td>\n",
       "      <td>2018-08-15 13:08:08</td>\n",
       "      <td>48.0</td>\n",
       "    </tr>\n",
       "    <tr>\n",
       "      <th>4</th>\n",
       "      <td>0022dd08-bb9b-48ef-9c49-49d9d21fe06d</td>\n",
       "      <td>2018-08-15 13:08:08</td>\n",
       "      <td>2018</td>\n",
       "      <td>8</td>\n",
       "      <td>15</td>\n",
       "      <td>13</td>\n",
       "      <td>2018-04-23 13:31:14</td>\n",
       "      <td>-114.0</td>\n",
       "    </tr>\n",
       "    <tr>\n",
       "      <th>...</th>\n",
       "      <td>...</td>\n",
       "      <td>...</td>\n",
       "      <td>...</td>\n",
       "      <td>...</td>\n",
       "      <td>...</td>\n",
       "      <td>...</td>\n",
       "      <td>...</td>\n",
       "      <td>...</td>\n",
       "    </tr>\n",
       "    <tr>\n",
       "      <th>12318</th>\n",
       "      <td>ffe88cec-ccb8-4c9e-a708-5dba732fb6d3</td>\n",
       "      <td>2018-08-01 21:19:46</td>\n",
       "      <td>2018</td>\n",
       "      <td>8</td>\n",
       "      <td>1</td>\n",
       "      <td>21</td>\n",
       "      <td>2018-10-30 16:40:53</td>\n",
       "      <td>89.0</td>\n",
       "    </tr>\n",
       "    <tr>\n",
       "      <th>12319</th>\n",
       "      <td>ffe88cec-ccb8-4c9e-a708-5dba732fb6d3</td>\n",
       "      <td>2018-10-30 16:40:53</td>\n",
       "      <td>2018</td>\n",
       "      <td>10</td>\n",
       "      <td>30</td>\n",
       "      <td>16</td>\n",
       "      <td>2018-08-17 17:05:45</td>\n",
       "      <td>-74.0</td>\n",
       "    </tr>\n",
       "    <tr>\n",
       "      <th>12320</th>\n",
       "      <td>fffb9811-bacf-43e1-ad0e-04e38ace7d28</td>\n",
       "      <td>2018-07-16 22:16:22</td>\n",
       "      <td>2018</td>\n",
       "      <td>7</td>\n",
       "      <td>16</td>\n",
       "      <td>22</td>\n",
       "      <td>2018-07-20 09:53:01</td>\n",
       "      <td>3.0</td>\n",
       "    </tr>\n",
       "    <tr>\n",
       "      <th>12321</th>\n",
       "      <td>fffb9811-bacf-43e1-ad0e-04e38ace7d28</td>\n",
       "      <td>2018-07-20 09:53:01</td>\n",
       "      <td>2018</td>\n",
       "      <td>7</td>\n",
       "      <td>20</td>\n",
       "      <td>9</td>\n",
       "      <td>2018-10-03 08:51:16</td>\n",
       "      <td>74.0</td>\n",
       "    </tr>\n",
       "    <tr>\n",
       "      <th>12322</th>\n",
       "      <td>fffb9811-bacf-43e1-ad0e-04e38ace7d28</td>\n",
       "      <td>2018-10-03 08:51:16</td>\n",
       "      <td>2018</td>\n",
       "      <td>10</td>\n",
       "      <td>3</td>\n",
       "      <td>8</td>\n",
       "      <td>2018-03-29 03:21:25</td>\n",
       "      <td>-189.0</td>\n",
       "    </tr>\n",
       "  </tbody>\n",
       "</table>\n",
       "<p>12323 rows × 8 columns</p>\n",
       "</div>"
      ],
      "text/plain": [
       "                                  VisitorId         HitDateTime  HitYear  \\\n",
       "0      0022dd08-bb9b-48ef-9c49-49d9d21fe06d 2018-04-24 02:44:44     2018   \n",
       "1      0022dd08-bb9b-48ef-9c49-49d9d21fe06d 2018-06-05 00:38:41     2018   \n",
       "2      0022dd08-bb9b-48ef-9c49-49d9d21fe06d 2018-06-13 23:21:30     2018   \n",
       "3      0022dd08-bb9b-48ef-9c49-49d9d21fe06d 2018-06-27 23:48:56     2018   \n",
       "4      0022dd08-bb9b-48ef-9c49-49d9d21fe06d 2018-08-15 13:08:08     2018   \n",
       "...                                     ...                 ...      ...   \n",
       "12318  ffe88cec-ccb8-4c9e-a708-5dba732fb6d3 2018-08-01 21:19:46     2018   \n",
       "12319  ffe88cec-ccb8-4c9e-a708-5dba732fb6d3 2018-10-30 16:40:53     2018   \n",
       "12320  fffb9811-bacf-43e1-ad0e-04e38ace7d28 2018-07-16 22:16:22     2018   \n",
       "12321  fffb9811-bacf-43e1-ad0e-04e38ace7d28 2018-07-20 09:53:01     2018   \n",
       "12322  fffb9811-bacf-43e1-ad0e-04e38ace7d28 2018-10-03 08:51:16     2018   \n",
       "\n",
       "       HitMonth  HitDay  HitHour   HitDateTime_shift  day_diff  \n",
       "0             4      24        2 2018-06-05 00:38:41      41.0  \n",
       "1             6       5        0 2018-06-13 23:21:30       8.0  \n",
       "2             6      13       23 2018-06-27 23:48:56      14.0  \n",
       "3             6      27       23 2018-08-15 13:08:08      48.0  \n",
       "4             8      15       13 2018-04-23 13:31:14    -114.0  \n",
       "...         ...     ...      ...                 ...       ...  \n",
       "12318         8       1       21 2018-10-30 16:40:53      89.0  \n",
       "12319        10      30       16 2018-08-17 17:05:45     -74.0  \n",
       "12320         7      16       22 2018-07-20 09:53:01       3.0  \n",
       "12321         7      20        9 2018-10-03 08:51:16      74.0  \n",
       "12322        10       3        8 2018-03-29 03:21:25    -189.0  \n",
       "\n",
       "[12323 rows x 8 columns]"
      ]
     },
     "execution_count": 9,
     "metadata": {},
     "output_type": "execute_result"
    }
   ],
   "source": [
    "Purchase18"
   ]
  },
  {
   "cell_type": "markdown",
   "metadata": {},
   "source": [
    "### CAI Analysis"
   ]
  },
  {
   "cell_type": "markdown",
   "metadata": {},
   "source": [
    "CAI is an analysis theory invented by profesosr in National Taiwan University.  \n",
    "By calculating the value of CAI, we could evaluate customer's active level.  \n",
    "\n",
    "If there are three user that buying 4 times in 2018, and their transaction time are  \n",
    "User A: [1/1, 3/1, 5/1, 7/1, 9/1 ]  \n",
    "User B: [1/1, 6/1, 7/1, 8/1, 9/1 ]  \n",
    "User C: [1/1, 2/1, 3/1, 4/1, 9/1 ]  \n",
    "\n",
    "If we user RFM model to analize these three user, we could find out that their recency and frequency are the same  \n",
    "However, user C is apparently more active because his/her buying happen more recent  \n"
   ]
  },
  {
   "cell_type": "markdown",
   "metadata": {
    "ExecuteTime": {
     "end_time": "2021-01-10T09:53:45.747735Z",
     "start_time": "2021-01-10T09:53:45.742101Z"
    }
   },
   "source": [
    "### Thus, we calculate time interval of each buying and give more recent buy a greater weight"
   ]
  },
  {
   "cell_type": "code",
   "execution_count": 10,
   "metadata": {
    "ExecuteTime": {
     "end_time": "2021-01-10T09:39:08.623050Z",
     "start_time": "2021-01-10T09:39:05.607771Z"
    }
   },
   "outputs": [
    {
     "name": "stderr",
     "output_type": "stream",
     "text": [
      "/Library/Frameworks/Python.framework/Versions/3.6/lib/python3.6/site-packages/ipykernel_launcher.py:7: SettingWithCopyWarning: \n",
      "A value is trying to be set on a copy of a slice from a DataFrame\n",
      "\n",
      "See the caveats in the documentation: https://pandas.pydata.org/pandas-docs/stable/user_guide/indexing.html#returning-a-view-versus-a-copy\n",
      "  import sys\n",
      "/Library/Frameworks/Python.framework/Versions/3.6/lib/python3.6/site-packages/ipykernel_launcher.py:12: SettingWithCopyWarning: \n",
      "A value is trying to be set on a copy of a slice from a DataFrame\n",
      "\n",
      "See the caveats in the documentation: https://pandas.pydata.org/pandas-docs/stable/user_guide/indexing.html#returning-a-view-versus-a-copy\n",
      "  if sys.path[0] == '':\n"
     ]
    }
   ],
   "source": [
    "Purchase18['weight'] = 0\n",
    "rowNum = Purchase18.shape[0]\n",
    "counter = 0\n",
    "for i in range(rowNum):\n",
    "    if i != rowNum-1:\n",
    "        counter+=1\n",
    "        Purchase18['weight'][i] = counter\n",
    "        if Purchase18['VisitorId'][i+1] != Purchase18['VisitorId'][i]:\n",
    "            counter = 0\n",
    "    else:\n",
    "        counter+=1\n",
    "        Purchase18['weight'][i] = counter\n",
    "\n",
    "\n"
   ]
  },
  {
   "cell_type": "code",
   "execution_count": 11,
   "metadata": {
    "ExecuteTime": {
     "end_time": "2021-01-10T09:39:26.434108Z",
     "start_time": "2021-01-10T09:39:16.392768Z"
    }
   },
   "outputs": [],
   "source": [
    "import copy\n",
    "copy_train = copy.deepcopy(Purchase18)\n",
    "\n",
    "for i in range(rowNum-1):\n",
    "    if copy_train['VisitorId'][i]!=copy_train['VisitorId'][i+1]:\n",
    "        copy_train.drop([i],inplace = True)\n",
    "\n",
    "copy_train['weighted_day_diff'] = copy_train['day_diff']* copy_train['weight']\n"
   ]
  },
  {
   "cell_type": "code",
   "execution_count": 12,
   "metadata": {
    "ExecuteTime": {
     "end_time": "2021-01-10T09:39:28.357272Z",
     "start_time": "2021-01-10T09:39:28.286732Z"
    }
   },
   "outputs": [],
   "source": [
    "summarize = pd.DataFrame()\n",
    "summarize['avg_day_diff'] = copy_train.groupby('VisitorId').mean()['day_diff']\n",
    "summarize['avg_weighted_day_diff'] = copy_train.groupby('VisitorId').sum()['weighted_day_diff'] / copy_train.groupby('VisitorId').sum()['weight']\n",
    "summarize['CAI'] = (summarize['avg_day_diff'] - summarize['avg_weighted_day_diff']) / summarize['avg_day_diff']\n",
    "summarize = summarize.reset_index()\n",
    "summarize.fillna(0,inplace = True)\n",
    "\n"
   ]
  },
  {
   "cell_type": "code",
   "execution_count": 13,
   "metadata": {
    "ExecuteTime": {
     "end_time": "2021-01-10T09:39:30.728024Z",
     "start_time": "2021-01-10T09:39:30.651808Z"
    }
   },
   "outputs": [
    {
     "data": {
      "text/html": [
       "<div>\n",
       "<style scoped>\n",
       "    .dataframe tbody tr th:only-of-type {\n",
       "        vertical-align: middle;\n",
       "    }\n",
       "\n",
       "    .dataframe tbody tr th {\n",
       "        vertical-align: top;\n",
       "    }\n",
       "\n",
       "    .dataframe thead th {\n",
       "        text-align: right;\n",
       "    }\n",
       "</style>\n",
       "<table border=\"1\" class=\"dataframe\">\n",
       "  <thead>\n",
       "    <tr style=\"text-align: right;\">\n",
       "      <th></th>\n",
       "      <th>VisitorId</th>\n",
       "      <th>avg_day_diff</th>\n",
       "      <th>avg_weighted_day_diff</th>\n",
       "      <th>CAI</th>\n",
       "      <th>frq2018</th>\n",
       "    </tr>\n",
       "  </thead>\n",
       "  <tbody>\n",
       "    <tr>\n",
       "      <th>0</th>\n",
       "      <td>0022dd08-bb9b-48ef-9c49-49d9d21fe06d</td>\n",
       "      <td>27.750000</td>\n",
       "      <td>29.100000</td>\n",
       "      <td>-0.048649</td>\n",
       "      <td>5</td>\n",
       "    </tr>\n",
       "    <tr>\n",
       "      <th>1</th>\n",
       "      <td>0071c6c1-4f81-4e8a-8c6f-f1488c939c0c</td>\n",
       "      <td>15.909091</td>\n",
       "      <td>16.272727</td>\n",
       "      <td>-0.022857</td>\n",
       "      <td>12</td>\n",
       "    </tr>\n",
       "    <tr>\n",
       "      <th>2</th>\n",
       "      <td>00df7ee1-72c2-49c3-bb0b-0730e8212374</td>\n",
       "      <td>32.571429</td>\n",
       "      <td>33.892857</td>\n",
       "      <td>-0.040570</td>\n",
       "      <td>8</td>\n",
       "    </tr>\n",
       "    <tr>\n",
       "      <th>3</th>\n",
       "      <td>010db26f-a0eb-4383-a0d8-41df1f11cb0a</td>\n",
       "      <td>22.000000</td>\n",
       "      <td>24.333333</td>\n",
       "      <td>-0.106061</td>\n",
       "      <td>4</td>\n",
       "    </tr>\n",
       "    <tr>\n",
       "      <th>4</th>\n",
       "      <td>013a6d62-de0c-458f-a837-cf0eb51adbda</td>\n",
       "      <td>76.500000</td>\n",
       "      <td>60.000000</td>\n",
       "      <td>0.215686</td>\n",
       "      <td>3</td>\n",
       "    </tr>\n",
       "    <tr>\n",
       "      <th>...</th>\n",
       "      <td>...</td>\n",
       "      <td>...</td>\n",
       "      <td>...</td>\n",
       "      <td>...</td>\n",
       "      <td>...</td>\n",
       "    </tr>\n",
       "    <tr>\n",
       "      <th>2478</th>\n",
       "      <td>ff171908-1306-46cd-59d6-95fd57989ced</td>\n",
       "      <td>32.500000</td>\n",
       "      <td>23.333333</td>\n",
       "      <td>0.282051</td>\n",
       "      <td>3</td>\n",
       "    </tr>\n",
       "    <tr>\n",
       "      <th>2479</th>\n",
       "      <td>ff6d6b32-66dd-4119-90c9-9d0e57d28118</td>\n",
       "      <td>38.333333</td>\n",
       "      <td>19.833333</td>\n",
       "      <td>0.482609</td>\n",
       "      <td>4</td>\n",
       "    </tr>\n",
       "    <tr>\n",
       "      <th>2480</th>\n",
       "      <td>ffe77131-1870-4a07-d860-d7fd3457d873</td>\n",
       "      <td>45.000000</td>\n",
       "      <td>31.000000</td>\n",
       "      <td>0.311111</td>\n",
       "      <td>3</td>\n",
       "    </tr>\n",
       "    <tr>\n",
       "      <th>2481</th>\n",
       "      <td>ffe88cec-ccb8-4c9e-a708-5dba732fb6d3</td>\n",
       "      <td>50.000000</td>\n",
       "      <td>63.000000</td>\n",
       "      <td>-0.260000</td>\n",
       "      <td>3</td>\n",
       "    </tr>\n",
       "    <tr>\n",
       "      <th>2482</th>\n",
       "      <td>fffb9811-bacf-43e1-ad0e-04e38ace7d28</td>\n",
       "      <td>-37.333333</td>\n",
       "      <td>-69.333333</td>\n",
       "      <td>-0.857143</td>\n",
       "      <td>4</td>\n",
       "    </tr>\n",
       "  </tbody>\n",
       "</table>\n",
       "<p>2483 rows × 5 columns</p>\n",
       "</div>"
      ],
      "text/plain": [
       "                                 VisitorId  avg_day_diff  \\\n",
       "0     0022dd08-bb9b-48ef-9c49-49d9d21fe06d     27.750000   \n",
       "1     0071c6c1-4f81-4e8a-8c6f-f1488c939c0c     15.909091   \n",
       "2     00df7ee1-72c2-49c3-bb0b-0730e8212374     32.571429   \n",
       "3     010db26f-a0eb-4383-a0d8-41df1f11cb0a     22.000000   \n",
       "4     013a6d62-de0c-458f-a837-cf0eb51adbda     76.500000   \n",
       "...                                    ...           ...   \n",
       "2478  ff171908-1306-46cd-59d6-95fd57989ced     32.500000   \n",
       "2479  ff6d6b32-66dd-4119-90c9-9d0e57d28118     38.333333   \n",
       "2480  ffe77131-1870-4a07-d860-d7fd3457d873     45.000000   \n",
       "2481  ffe88cec-ccb8-4c9e-a708-5dba732fb6d3     50.000000   \n",
       "2482  fffb9811-bacf-43e1-ad0e-04e38ace7d28    -37.333333   \n",
       "\n",
       "      avg_weighted_day_diff       CAI  frq2018  \n",
       "0                 29.100000 -0.048649        5  \n",
       "1                 16.272727 -0.022857       12  \n",
       "2                 33.892857 -0.040570        8  \n",
       "3                 24.333333 -0.106061        4  \n",
       "4                 60.000000  0.215686        3  \n",
       "...                     ...       ...      ...  \n",
       "2478              23.333333  0.282051        3  \n",
       "2479              19.833333  0.482609        4  \n",
       "2480              31.000000  0.311111        3  \n",
       "2481              63.000000 -0.260000        3  \n",
       "2482             -69.333333 -0.857143        4  \n",
       "\n",
       "[2483 rows x 5 columns]"
      ]
     },
     "execution_count": 13,
     "metadata": {},
     "output_type": "execute_result"
    }
   ],
   "source": [
    "frq18 = (copy_train.groupby('VisitorId').count()['HitDateTime']+1).to_frame().reset_index()\n",
    "summarize = summarize.merge(frq18,on = 'VisitorId',how = 'left').rename(columns = {'HitDateTime':'frq2018'})\n",
    "summarize\n",
    "\n",
    "# print(frq.mean())\n",
    "# print(frq.max())\n",
    "# print(frq.min())\n",
    "# print(frq.std())"
   ]
  },
  {
   "cell_type": "code",
   "execution_count": 14,
   "metadata": {
    "ExecuteTime": {
     "end_time": "2021-01-10T09:39:49.213806Z",
     "start_time": "2021-01-10T09:39:49.201053Z"
    }
   },
   "outputs": [
    {
     "name": "stdout",
     "output_type": "stream",
     "text": [
      "-0.020362694635731277\n",
      "0.6461748633879781\n",
      "-0.8571428571428569\n",
      "0.22368125902964286\n"
     ]
    }
   ],
   "source": [
    "print(summarize['CAI'].mean())\n",
    "print(summarize['CAI'].max())\n",
    "print(summarize['CAI'].min())\n",
    "print(summarize['CAI'].std())"
   ]
  },
  {
   "cell_type": "markdown",
   "metadata": {},
   "source": [
    "### Visualization"
   ]
  },
  {
   "cell_type": "code",
   "execution_count": 15,
   "metadata": {
    "ExecuteTime": {
     "end_time": "2021-01-10T09:39:57.456389Z",
     "start_time": "2021-01-10T09:39:56.725404Z"
    }
   },
   "outputs": [
    {
     "data": {
      "image/png": "[encoded data removed]",
      "text/plain": [
       "<Figure size 720x432 with 1 Axes>"
      ]
     },
     "metadata": {},
     "output_type": "display_data"
    }
   ],
   "source": [
    "# frequency histogram\n",
    "plt.style.use('seaborn-white')\n",
    "plt.figure(figsize = (10,6))\n",
    "\n",
    "plt.hist(frq['HitDateTime'],bins = np.arange(3,24,1))\n",
    "plt.xticks(np.arange(3,25,1),rotation = 40)\n",
    "\n",
    "#plt.savefig('frq_histogram.png',transparent = True)"
   ]
  },
  {
   "cell_type": "code",
   "execution_count": 20,
   "metadata": {
    "ExecuteTime": {
     "end_time": "2021-01-10T09:56:03.463943Z",
     "start_time": "2021-01-10T09:56:02.900421Z"
    }
   },
   "outputs": [
    {
     "data": {
      "image/png": "[encoded data removed]",
      "text/plain": [
       "<Figure size 720x432 with 1 Axes>"
      ]
     },
     "metadata": {},
     "output_type": "display_data"
    }
   ],
   "source": [
    "# CAI histogram\n",
    "'''\n",
    "CAI > 0 means that the user have greater buying power recently,  \n",
    "on the contrary, CAI < 0 means that users's frequently get lower\n",
    "'''\n",
    "plt.style.use('seaborn-white')\n",
    "plt.figure(figsize = (10,6))\n",
    "\n",
    "plt.hist(summarize['CAI'],bins = np.arange(-0.7,0.7,0.1))\n",
    "plt.xticks(np.arange(-0.7,0.7,0.1),rotation = 40,)\n",
    "\n",
    "plt.savefig('cai_histogram.png',transparent = True)"
   ]
  },
  {
   "cell_type": "code",
   "execution_count": 21,
   "metadata": {
    "ExecuteTime": {
     "end_time": "2021-01-10T09:56:51.115097Z",
     "start_time": "2021-01-10T09:56:50.477811Z"
    }
   },
   "outputs": [
    {
     "data": {
      "image/png": "[encoded data removed]",
      "text/plain": [
       "<Figure size 720x432 with 1 Axes>"
      ]
     },
     "metadata": {},
     "output_type": "display_data"
    }
   ],
   "source": [
    "plt.figure(figsize = (10,6))\n",
    "\n",
    "cai = summarize['CAI']\n",
    "plt.scatter(frq['HitDateTime'],cai)\n",
    "plt.xlim(0, 40)\n",
    "plt.xticks(np.arange(0,40,5))\n",
    "plt.xlabel('Frequency')\n",
    "plt.ylabel('CAI')\n",
    "plt.savefig('scatter_frq_cai.png',transparent = True)"
   ]
  },
  {
   "cell_type": "markdown",
   "metadata": {},
   "source": [
    "### Hypothesis Validation\n"
   ]
  },
  {
   "cell_type": "markdown",
   "metadata": {},
   "source": [
    "Null Hypothesis: CAI and user's loyalty(active level) has positive relatio  \n",
    "How to validate?  \n",
    "- Tracking the 2000 active user's transaction in 2019    \n"
   ]
  },
  {
   "cell_type": "code",
   "execution_count": 23,
   "metadata": {
    "ExecuteTime": {
     "end_time": "2021-01-10T10:00:16.878532Z",
     "start_time": "2021-01-10T10:00:16.045933Z"
    }
   },
   "outputs": [],
   "source": [
    "Purchase19 = pd.read_csv('data/purchase19.csv')"
   ]
  },
  {
   "cell_type": "code",
   "execution_count": 24,
   "metadata": {
    "ExecuteTime": {
     "end_time": "2021-01-10T10:00:31.180939Z",
     "start_time": "2021-01-10T10:00:21.522245Z"
    }
   },
   "outputs": [],
   "source": [
    "def process(df):\n",
    "    df['ht'] = df['ht'].apply(lambda x:datetime.fromtimestamp(int(x) / 1000).strftime('%Y-%m-%d %H:%M:%S'))\n",
    "    df = df[['did','ht']]\n",
    "    df = df.rename(columns = {'did':'VisitorId','ht':'HitDateTime'})\n",
    "    df['HitDateTime'] = df['HitDateTime'].apply(lambda x: datetime.strptime(x,'%Y-%m-%d %H:%M:%S'))\n",
    "    df['HitMonth'] = df['HitDateTime'].apply(lambda x:x.month)\n",
    "    df['HitDay'] = df['HitDateTime'].apply(lambda x:x.day)\n",
    "\n",
    "    return df\n",
    "\n",
    "CopyPurchase19 = process(Purchase19)"
   ]
  },
  {
   "cell_type": "code",
   "execution_count": 59,
   "metadata": {
    "ExecuteTime": {
     "end_time": "2021-01-10T11:36:36.954882Z",
     "start_time": "2021-01-10T11:36:36.945375Z"
    }
   },
   "outputs": [
    {
     "data": {
      "text/plain": [
       "array([-1. , -0.4, -0.2,  0. ,  0.2,  0.4,  1. ])"
      ]
     },
     "execution_count": 59,
     "metadata": {},
     "output_type": "execute_result"
    }
   ],
   "source": [
    "seg_list = np.array(-1)\n",
    "seg_list = np.append(seg_list, np.linspace(-0.4,0.4,5))\n",
    "seg_list = np.append(seg_list,1)\n",
    "seg_list\n"
   ]
  },
  {
   "cell_type": "code",
   "execution_count": 62,
   "metadata": {
    "ExecuteTime": {
     "end_time": "2021-01-10T11:41:13.981962Z",
     "start_time": "2021-01-10T11:41:09.248378Z"
    }
   },
   "outputs": [
    {
     "name": "stdout",
     "output_type": "stream",
     "text": [
      "6.930232558139535 0.6417910447761194\n",
      "6.042168674698795 0.6240601503759399\n",
      "6.991820040899795 0.6635006784260515\n",
      "6.914529914529915 0.6473029045643154\n",
      "6.638376383763838 0.6421800947867299\n",
      "7.416666666666667 0.72\n"
     ]
    },
    {
     "data": {
      "text/plain": [
       "<matplotlib.legend.Legend at 0x17361aeb8>"
      ]
     },
     "execution_count": 62,
     "metadata": {},
     "output_type": "execute_result"
    },
    {
     "data": {
      "image/png": "[encoded data removed]",
      "text/plain": [
       "<Figure size 720x432 with 1 Axes>"
      ]
     },
     "metadata": {},
     "output_type": "display_data"
    }
   ],
   "source": [
    "# Segment 24xx users to 4 group according to CAI  \n",
    "G1 = summarize[summarize['CAI'].between(-0.4,-1)]['VisitorId']\n",
    "G2 = summarize[summarize['CAI'].between(-0.4,-0.2)]['VisitorId']\n",
    "G3 = summarize[summarize['CAI'].between(-0.2,0)]['VisitorId']\n",
    "G4 = summarize[summarize['CAI'].between(0,0.2)]['VisitorId']\n",
    "G5 = summarize[summarize['CAI'].between(0.2,0.4)]['VisitorId']\n",
    "G6 = summarize[summarize['CAI'].between(0.4,1)]['VisitorId']\n",
    "\n",
    "targetID = list(summarize['VisitorId'])\n",
    "color = ['k','r','m','g','y','c']\n",
    "\n",
    "plt.figure(figsize=(10,6))\n",
    "for index in range(len(seg_list)-1):\n",
    "    GMean = []\n",
    "    GRet = []\n",
    "    V_low = seg_list[index]\n",
    "    V_high = seg_list[index+1]\n",
    "    G = summarize[summarize['CAI'].between(V_low, V_high)]['VisitorId']\n",
    "    \n",
    "    for month in range(1,13):\n",
    "        tmp = CopyPurchase19\n",
    "        tmp = tmp[tmp['HitMonth'].between(1,month)]\n",
    "        tmp = tmp[tmp['VisitorId'].isin(targetID)]\n",
    "        tmp.drop_duplicates(subset = ['VisitorId','HitDateTime'],inplace= True)\n",
    "        frq19 = tmp.groupby('VisitorId').count()['HitDateTime'].to_frame().reset_index()\n",
    "\n",
    "        summarize2 = summarize.merge(frq19,on = 'VisitorId',how = 'left').rename(columns = {'HitDateTime':'frq2019'})\n",
    "        summarize3 = summarize2[summarize2['frq2019']<100]\n",
    "\n",
    "        mean = summarize3[summarize3['VisitorId'].isin(G)]['frq2019'].mean()\n",
    "        ret = summarize3[summarize3['VisitorId'].isin(G)].shape[0]/len(G)\n",
    "        GMean.append(mean)\n",
    "        GRet.append(ret)\n",
    "    plt.plot(GRet,c = color[index],label = f\"Group{index+1}'s CAI is between {V_low} and  {V_high}\")\n",
    "    print(mean,ret)\n",
    "    \n",
    "plt.xticks(np.arange(1,13,1))\n",
    "plt.yticks(np.arange(0.3,0.8,0.05))\n",
    "plt.xlabel('Recency(Month)')\n",
    "plt.ylabel('Retention_Rate')\n",
    "plt.ylim(0.3,0.8)\n",
    "plt.legend()"
   ]
  },
  {
   "cell_type": "code",
   "execution_count": 63,
   "metadata": {
    "ExecuteTime": {
     "end_time": "2021-01-10T11:44:44.372203Z",
     "start_time": "2021-01-10T11:44:44.278158Z"
    }
   },
   "outputs": [
    {
     "name": "stdout",
     "output_type": "stream",
     "text": [
      "Group 1\n",
      "Number:67 / Avg frequency:2.972 / Retention Rate:0.537\n",
      "\n",
      "\n",
      "Group 2\n",
      "Number:532 / Avg frequency:2.922 / Retention Rate:0.479\n",
      "\n",
      "\n",
      "Group 3\n",
      "Number:737 / Avg frequency:3.146 / Retention Rate:0.548\n",
      "\n",
      "\n",
      "Group 4\n",
      "Number:723 / Avg frequency:3.13 / Retention Rate:0.552\n",
      "\n",
      "\n",
      "Group 5\n",
      "Number:422 / Avg frequency:2.92 / Retention Rate:0.531\n",
      "\n",
      "\n",
      "Group 6\n",
      "Number:50 / Avg frequency:2.926 / Retention Rate:0.54\n",
      "\n",
      "\n"
     ]
    }
   ],
   "source": [
    "tmp = CopyPurchase19\n",
    "tmp = tmp[tmp['HitMonth'].between(1,4)]\n",
    "tmp = tmp[tmp['VisitorId'].isin(targetID)]\n",
    "tmp.drop_duplicates(subset = ['VisitorId','HitDateTime'],inplace= True)\n",
    "frq19 = tmp.groupby('VisitorId').count()['HitDateTime'].to_frame().reset_index()\n",
    "\n",
    "summarize2 = summarize.merge(frq19,on = 'VisitorId',how = 'left').rename(columns = {'HitDateTime':'frq2019'})\n",
    "summarize3 = summarize2[summarize2['frq2019']<100]\n",
    "for index in range(len(seg_list)-1):\n",
    "    GMean = []\n",
    "    GRet = []\n",
    "    V_low = seg_list[index]\n",
    "    V_high = seg_list[index+1]\n",
    "    G = summarize[summarize['CAI'].between(V_low, V_high)]['VisitorId']\n",
    "    \n",
    "    Num = len(G)\n",
    "    frq = round(summarize3[summarize3['VisitorId'].isin(G)]['frq2019'].mean(),3)\n",
    "    ret = round(summarize3[summarize3['VisitorId'].isin(G)].shape[0]/len(G),3)\n",
    "    print(f'Group {index+1}')\n",
    "    print(f\"Number:{Num} / Avg frequency:{frq} / Retention Rate:{ret}\")\n",
    "    print('\\n')"
   ]
  },
  {
   "cell_type": "markdown",
   "metadata": {
    "ExecuteTime": {
     "end_time": "2020-05-31T12:56:09.509803Z",
     "start_time": "2020-05-31T12:56:09.499390Z"
    }
   },
   "source": [
    "### Wondering Group2's feature"
   ]
  },
  {
   "cell_type": "code",
   "execution_count": 64,
   "metadata": {
    "ExecuteTime": {
     "end_time": "2021-01-10T11:45:57.810347Z",
     "start_time": "2021-01-10T11:45:52.286596Z"
    }
   },
   "outputs": [],
   "source": [
    "targetTscNum = Behave[(Behave['BehaviorType']=='Purchase') & (Behave['VisitorId'].isin(G2))]['TransactionNum']"
   ]
  },
  {
   "cell_type": "code",
   "execution_count": 65,
   "metadata": {
    "ExecuteTime": {
     "end_time": "2021-01-10T11:46:19.082845Z",
     "start_time": "2021-01-10T11:46:15.606661Z"
    }
   },
   "outputs": [],
   "source": [
    "SearchBehave = Behave.dropna(subset=['SearchKeyWord'])\n",
    "G2Search = list(SearchBehave[SearchBehave['VisitorId'].isin(G2)]['SearchKeyWord'])\n",
    "Allsearch = list(SearchBehave['SearchKeyWord'])"
   ]
  },
  {
   "cell_type": "code",
   "execution_count": 66,
   "metadata": {
    "ExecuteTime": {
     "end_time": "2021-01-10T11:46:21.986183Z",
     "start_time": "2021-01-10T11:46:20.480074Z"
    }
   },
   "outputs": [
    {
     "data": {
      "image/png": "[encoded data removed]",
      "text/plain": [
       "<Figure size 720x432 with 1 Axes>"
      ]
     },
     "metadata": {},
     "output_type": "display_data"
    }
   ],
   "source": [
    "# most frequent search keywork for group2\n",
    "plt.figure(figsize=(10,6))\n",
    "y_pos = np.arange(10)\n",
    "height = dict(Counter(G2Search).most_common(10)).values()\n",
    "bars = dict(Counter(G2Search).most_common(10)).keys()\n",
    "plt.bar(y_pos, height)\n",
    " \n",
    "# Create names on the x-axis\n",
    "plt.xticks(y_pos, bars)\n",
    "plt.rcParams['font.sans-serif'] = ['Arial Unicode MS']\n",
    "\n",
    "# plt.show() # Show graphic\n",
    "plt.savefig('G2searchword.jpg')"
   ]
  },
  {
   "cell_type": "code",
   "execution_count": 67,
   "metadata": {
    "ExecuteTime": {
     "end_time": "2021-01-10T11:47:05.980191Z",
     "start_time": "2021-01-10T11:47:05.521346Z"
    }
   },
   "outputs": [
    {
     "data": {
      "image/png": "[encoded data removed]",
      "text/plain": [
       "<Figure size 720x432 with 1 Axes>"
      ]
     },
     "metadata": {},
     "output_type": "display_data"
    }
   ],
   "source": [
    "# most frequent search keywork for all group\n",
    "plt.figure(figsize=(10,6))\n",
    "\n",
    "y_pos = np.arange(10)\n",
    "height = dict(Counter(Allsearch).most_common(10)).values()\n",
    "bars = dict(Counter(Allsearch).most_common(10)).keys()\n",
    "plt.bar(y_pos, height) # https://python-graph-gallery.com/1-basic-barplot/\n",
    " \n",
    "# Create names on the x-axis\n",
    "plt.xticks(y_pos, bars)\n",
    "plt.rcParams['font.sans-serif'] = ['Arial Unicode MS'] # https://blog.csdn.net/qq_32590631/article/details/80509741\n",
    "\n",
    "# plt.show() # Show graphic\n",
    "plt.savefig('Allsearchword.jpg')"
   ]
  },
  {
   "cell_type": "markdown",
   "metadata": {},
   "source": [
    "### Find out the group of High CAI but low frequenct"
   ]
  },
  {
   "cell_type": "code",
   "execution_count": 49,
   "metadata": {
    "ExecuteTime": {
     "end_time": "2021-01-10T10:08:05.137993Z",
     "start_time": "2021-01-10T10:08:04.732533Z"
    }
   },
   "outputs": [
    {
     "data": {
      "text/plain": [
       "<matplotlib.collections.PathCollection at 0x199072128>"
      ]
     },
     "execution_count": 49,
     "metadata": {},
     "output_type": "execute_result"
    },
    {
     "data": {
      "image/png": "[encoded data removed]",
      "text/plain": [
       "<Figure size 432x288 with 1 Axes>"
      ]
     },
     "metadata": {},
     "output_type": "display_data"
    }
   ],
   "source": [
    "a = summarize[(summarize['CAI'].between(-0.4,0)) & (summarize['frq2018'] > 6)]['VisitorId']\n",
    "plt.scatter(summarize['frq2018'],summarize2['frq2019'])"
   ]
  }
 ],
 "metadata": {
  "hide_input": false,
  "kernelspec": {
   "display_name": "Python 3",
   "language": "python",
   "name": "python3"
  },
  "language_info": {
   "codemirror_mode": {
    "name": "ipython",
    "version": 3
   },
   "file_extension": ".py",
   "mimetype": "text/x-python",
   "name": "python",
   "nbconvert_exporter": "python",
   "pygments_lexer": "ipython3",
   "version": "3.6.3"
  },
  "toc": {
   "base_numbering": 1,
   "nav_menu": {},
   "number_sections": true,
   "sideBar": true,
   "skip_h1_title": false,
   "title_cell": "Table of Contents",
   "title_sidebar": "Contents",
   "toc_cell": false,
   "toc_position": {},
   "toc_section_display": true,
   "toc_window_display": false
  },
  "varInspector": {
   "cols": {
    "lenName": 16,
    "lenType": 16,
    "lenVar": 40
   },
   "kernels_config": {
    "python": {
     "delete_cmd_postfix": "",
     "delete_cmd_prefix": "del ",
     "library": "var_list.py",
     "varRefreshCmd": "print(var_dic_list())"
    },
    "r": {
     "delete_cmd_postfix": ") ",
     "delete_cmd_prefix": "rm(",
     "library": "var_list.r",
     "varRefreshCmd": "cat(var_dic_list()) "
    }
   },
   "types_to_exclude": [
    "module",
    "function",
    "builtin_function_or_method",
    "instance",
    "_Feature"
   ],
   "window_display": false
  }
 },
 "nbformat": 4,
 "nbformat_minor": 2
}
